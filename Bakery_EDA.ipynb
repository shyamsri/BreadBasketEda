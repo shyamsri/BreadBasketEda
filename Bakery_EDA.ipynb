{
 "cells": [
  {
   "cell_type": "code",
   "execution_count": 4,
   "metadata": {},
   "outputs": [
    {
     "name": "stdout",
     "output_type": "stream",
     "text": [
      "         Date      Time  Transaction           Item\n",
      "0  2016-10-30  09:58:11            1          Bread\n",
      "1  2016-10-30  10:05:34            2   Scandinavian\n",
      "2  2016-10-30  10:05:34            2   Scandinavian\n",
      "3  2016-10-30  10:07:57            3  Hot chocolate\n",
      "4  2016-10-30  10:07:57            3            Jam\n"
     ]
    }
   ],
   "source": [
    "# import necessary libraries and csv data file\n",
    "import os\n",
    "import pandas as pd\n",
    "import numpy as np\n",
    "import matplotlib.pyplot as plt\n",
    "import types\n",
    "import datetime as dt\n",
    "\n",
    "def __iter__(self): return 0\n",
    "\n",
    "bakery = pd.read_csv(\"BreadBasket_DMS.csv\")\n",
    "print(bakery.head())\n",
    "item_count = bakery.Item.count()"
   ]
  },
  {
   "cell_type": "code",
   "execution_count": 5,
   "metadata": {},
   "outputs": [
    {
     "name": "stdout",
     "output_type": "stream",
     "text": [
      "(20507, 4)\n",
      "Index(['Date', 'Time', 'Transaction', 'Item'], dtype='object')\n"
     ]
    },
    {
     "data": {
      "text/html": [
       "<div>\n",
       "<style scoped>\n",
       "    .dataframe tbody tr th:only-of-type {\n",
       "        vertical-align: middle;\n",
       "    }\n",
       "\n",
       "    .dataframe tbody tr th {\n",
       "        vertical-align: top;\n",
       "    }\n",
       "\n",
       "    .dataframe thead th {\n",
       "        text-align: right;\n",
       "    }\n",
       "</style>\n",
       "<table border=\"1\" class=\"dataframe\">\n",
       "  <thead>\n",
       "    <tr style=\"text-align: right;\">\n",
       "      <th></th>\n",
       "      <th>Date</th>\n",
       "      <th>Time</th>\n",
       "      <th>Transaction</th>\n",
       "      <th>Item</th>\n",
       "    </tr>\n",
       "  </thead>\n",
       "  <tbody>\n",
       "    <tr>\n",
       "      <th>0</th>\n",
       "      <td>2016-10-30</td>\n",
       "      <td>09:58:11</td>\n",
       "      <td>1</td>\n",
       "      <td>Bread</td>\n",
       "    </tr>\n",
       "    <tr>\n",
       "      <th>1</th>\n",
       "      <td>2016-10-30</td>\n",
       "      <td>10:05:34</td>\n",
       "      <td>2</td>\n",
       "      <td>Scandinavian</td>\n",
       "    </tr>\n",
       "    <tr>\n",
       "      <th>2</th>\n",
       "      <td>2016-10-30</td>\n",
       "      <td>10:05:34</td>\n",
       "      <td>2</td>\n",
       "      <td>Scandinavian</td>\n",
       "    </tr>\n",
       "    <tr>\n",
       "      <th>3</th>\n",
       "      <td>2016-10-30</td>\n",
       "      <td>10:07:57</td>\n",
       "      <td>3</td>\n",
       "      <td>Hot chocolate</td>\n",
       "    </tr>\n",
       "    <tr>\n",
       "      <th>4</th>\n",
       "      <td>2016-10-30</td>\n",
       "      <td>10:07:57</td>\n",
       "      <td>3</td>\n",
       "      <td>Jam</td>\n",
       "    </tr>\n",
       "  </tbody>\n",
       "</table>\n",
       "</div>"
      ],
      "text/plain": [
       "         Date      Time  Transaction           Item\n",
       "0  2016-10-30  09:58:11            1          Bread\n",
       "1  2016-10-30  10:05:34            2   Scandinavian\n",
       "2  2016-10-30  10:05:34            2   Scandinavian\n",
       "3  2016-10-30  10:07:57            3  Hot chocolate\n",
       "4  2016-10-30  10:07:57            3            Jam"
      ]
     },
     "execution_count": 5,
     "metadata": {},
     "output_type": "execute_result"
    }
   ],
   "source": [
    "# Preliminary cleaning of dataset by removing NONE values\n",
    "bakery = bakery.drop(bakery[bakery.Item == 'NONE'].index)\n",
    "clean_item_count = bakery.Item.count()  \n",
    "assert (int(item_count) - int(clean_item_count) == 21293 - 20507)\n",
    "print(bakery.shape)\n",
    "print(bakery.columns)\n",
    "bakery.head()"
   ]
  },
  {
   "cell_type": "code",
   "execution_count": 6,
   "metadata": {
    "scrolled": true
   },
   "outputs": [
    {
     "data": {
      "text/plain": [
       "6279    11\n",
       "6716    11\n",
       "6412    11\n",
       "6474    11\n",
       "6045    10\n",
       "9447    10\n",
       "9534     9\n",
       "8835     9\n",
       "3673     9\n",
       "6290     9\n",
       "3799     9\n",
       "7245     9\n",
       "6519     9\n",
       "6730     8\n",
       "7602     8\n",
       "6056     8\n",
       "8792     8\n",
       "6048     8\n",
       "9492     8\n",
       "7397     8\n",
       "7254     8\n",
       "7803     8\n",
       "7105     8\n",
       "8011     8\n",
       "5935     8\n",
       "3529     8\n",
       "6038     8\n",
       "5807     8\n",
       "6331     8\n",
       "5562     8\n",
       "        ..\n",
       "952      1\n",
       "2921     1\n",
       "3001     1\n",
       "968      1\n",
       "5066     1\n",
       "9164     1\n",
       "7131     1\n",
       "9196     1\n",
       "1016     1\n",
       "2937     1\n",
       "872      1\n",
       "8908     1\n",
       "776      1\n",
       "2777     1\n",
       "6875     1\n",
       "4842     1\n",
       "6891     1\n",
       "2809     1\n",
       "4858     1\n",
       "6907     1\n",
       "2825     1\n",
       "856      1\n",
       "8988     1\n",
       "808      1\n",
       "2857     1\n",
       "9004     1\n",
       "4922     1\n",
       "6971     1\n",
       "6987     1\n",
       "2049     1\n",
       "Name: Transaction, Length: 9465, dtype: int64"
      ]
     },
     "execution_count": 6,
     "metadata": {},
     "output_type": "execute_result"
    }
   ],
   "source": [
    "# Transaction counts\n",
    "bakery[\"Transaction\"].value_counts()"
   ]
  },
  {
   "cell_type": "code",
   "execution_count": 7,
   "metadata": {},
   "outputs": [
    {
     "name": "stdout",
     "output_type": "stream",
     "text": [
      "There are 94 unique items sold\n",
      "Coffee    5471\n",
      "Bread     3325\n",
      "Tea       1435\n",
      "Cake      1025\n",
      "Pastry     856\n",
      "Name: Item, dtype: int64\n"
     ]
    }
   ],
   "source": [
    "# Listing the number of unique items sold and displaying the top 5 items sold\n",
    "unique_item_count = len(bakery.Item.unique())\n",
    "print(\"There are \" + str(unique_item_count) + \" unique items sold\")\n",
    "top_5 = bakery[\"Item\"].value_counts().sort_values(ascending=False).head(5)\n",
    "print(top_5)"
   ]
  },
  {
   "cell_type": "code",
   "execution_count": 8,
   "metadata": {},
   "outputs": [
    {
     "data": {
      "text/plain": [
       "<matplotlib.axes._subplots.AxesSubplot at 0x1f9d8fcde10>"
      ]
     },
     "execution_count": 8,
     "metadata": {},
     "output_type": "execute_result"
    },
    {
     "data": {
      "image/png": "[encoded data removed]",
      "text/plain": [
       "<Figure size 432x288 with 1 Axes>"
      ]
     },
     "metadata": {
      "needs_background": "light"
     },
     "output_type": "display_data"
    }
   ],
   "source": [
    "#Bar plot Visualization of top 5 items sold\n",
    "top_5.plot.bar(y='Item', title='Top 5 Items Sold')"
   ]
  },
  {
   "cell_type": "code",
   "execution_count": 9,
   "metadata": {},
   "outputs": [
    {
     "data": {
      "text/plain": [
       "<matplotlib.axes._subplots.AxesSubplot at 0x1f9d92d17f0>"
      ]
     },
     "execution_count": 9,
     "metadata": {},
     "output_type": "execute_result"
    },
    {
     "data": {
      "image/png": "[encoded data removed]",
      "text/plain": [
       "<Figure size 432x288 with 1 Axes>"
      ]
     },
     "metadata": {
      "needs_background": "light"
     },
     "output_type": "display_data"
    }
   ],
   "source": [
    "#Convert Date observations to datetime type and and plot total transactions per day\n",
    "bakery.Date = pd.to_datetime(bakery.Date) \n",
    "bakery.Date.value_counts().plot()"
   ]
  },
  {
   "cell_type": "code",
   "execution_count": 10,
   "metadata": {},
   "outputs": [
    {
     "data": {
      "text/plain": [
       "<matplotlib.axes._subplots.AxesSubplot at 0x1f9db56ce10>"
      ]
     },
     "execution_count": 10,
     "metadata": {},
     "output_type": "execute_result"
    },
    {
     "data": {
      "image/png": "[encoded data removed]",
      "text/plain": [
       "<Figure size 432x288 with 1 Axes>"
      ]
     },
     "metadata": {
      "needs_background": "light"
     },
     "output_type": "display_data"
    }
   ],
   "source": [
    "#Plot number of transactions for each weekday\n",
    "bakery['Weekday'] = bakery.Date.dt.weekday_name\n",
    "trans_by_weekday = bakery.Weekday.value_counts().reindex(['Monday', 'Tuesday', 'Wednesday', 'Thursday', 'Friday', 'Saturday', 'Sunday'])\n",
    "trans_by_weekday.plot.bar()"
   ]
  },
  {
   "cell_type": "code",
   "execution_count": 11,
   "metadata": {},
   "outputs": [
    {
     "name": "stdout",
     "output_type": "stream",
     "text": [
      "23:38:41\n",
      "01:21:05\n",
      "0    12:07:39\n",
      "dtype: object\n"
     ]
    }
   ],
   "source": [
    "# Small analysis to see earliest and latest sale\n",
    "print(bakery.Time.max())\n",
    "print(bakery.Time.min())\n",
    "print(bakery.Time.mode())"
   ]
  },
  {
   "cell_type": "code",
   "execution_count": 12,
   "metadata": {},
   "outputs": [
    {
     "data": {
      "text/plain": [
       "<matplotlib.axes._subplots.AxesSubplot at 0x1f9db59e1d0>"
      ]
     },
     "execution_count": 12,
     "metadata": {},
     "output_type": "execute_result"
    },
    {
     "data": {
      "image/png": "[encoded data removed]",
      "text/plain": [
       "<Figure size 432x288 with 1 Axes>"
      ]
     },
     "metadata": {
      "needs_background": "light"
     },
     "output_type": "display_data"
    }
   ],
   "source": [
    "#looking at total sales for each hour\n",
    "bakery.Time = pd.to_datetime(bakery.Time) \n",
    "bakery.Time.value_counts().plot()"
   ]
  },
  {
   "cell_type": "code",
   "execution_count": 13,
   "metadata": {},
   "outputs": [
    {
     "data": {
      "text/plain": [
       "<matplotlib.axes._subplots.AxesSubplot at 0x1f9dc7f8208>"
      ]
     },
     "execution_count": 13,
     "metadata": {},
     "output_type": "execute_result"
    },
    {
     "data": {
      "image/png": "[encoded data removed]",
      "text/plain": [
       "<Figure size 432x288 with 1 Axes>"
      ]
     },
     "metadata": {
      "needs_background": "light"
     },
     "output_type": "display_data"
    }
   ],
   "source": [
    "bakery['Date'] = pd.to_datetime(bakery['Date'])\n",
    "bakery['Time'] = pd.to_datetime(bakery['Time'])\n",
    "#October\n",
    "octo = bakery[bakery['Date'].dt.month == 10]\n",
    "octo_top_5 = octo[\"Item\"].value_counts().sort_values(ascending=False).head(5)\n",
    "octo_top_5.plot.bar(y='Item', title='October Top 5 Items Sold')"
   ]
  },
  {
   "cell_type": "code",
   "execution_count": 14,
   "metadata": {},
   "outputs": [
    {
     "data": {
      "text/plain": [
       "<matplotlib.axes._subplots.AxesSubplot at 0x1f9dc66d1d0>"
      ]
     },
     "execution_count": 14,
     "metadata": {},
     "output_type": "execute_result"
    },
    {
     "data": {
      "image/png": "[encoded data removed]",
      "text/plain": [
       "<Figure size 432x288 with 1 Axes>"
      ]
     },
     "metadata": {
      "needs_background": "light"
     },
     "output_type": "display_data"
    }
   ],
   "source": [
    "#November\n",
    "nov = bakery[bakery['Date'].dt.month == 11]\n",
    "nov_top_5 = nov[\"Item\"].value_counts().sort_values(ascending=False).head(5)\n",
    "nov_top_5.plot.bar(y='Item', title='November Top 5 Items Sold')"
   ]
  },
  {
   "cell_type": "code",
   "execution_count": 15,
   "metadata": {},
   "outputs": [
    {
     "data": {
      "text/plain": [
       "<matplotlib.axes._subplots.AxesSubplot at 0x1f9dc6d3780>"
      ]
     },
     "execution_count": 15,
     "metadata": {},
     "output_type": "execute_result"
    },
    {
     "data": {
      "image/png": "[encoded data removed]",
      "text/plain": [
       "<Figure size 432x288 with 1 Axes>"
      ]
     },
     "metadata": {
      "needs_background": "light"
     },
     "output_type": "display_data"
    }
   ],
   "source": [
    "#December\n",
    "dec = bakery[bakery['Date'].dt.month == 12]\n",
    "dec_top_5 = dec[\"Item\"].value_counts().sort_values(ascending=False).head(5)\n",
    "dec_top_5.plot.bar(y='Item', title='December Top 5 Items Sold')"
   ]
  },
  {
   "cell_type": "code",
   "execution_count": 16,
   "metadata": {},
   "outputs": [
    {
     "data": {
      "text/plain": [
       "<matplotlib.axes._subplots.AxesSubplot at 0x1f9dc721208>"
      ]
     },
     "execution_count": 16,
     "metadata": {},
     "output_type": "execute_result"
    },
    {
     "data": {
      "image/png": "[encoded data removed]",
      "text/plain": [
       "<Figure size 432x288 with 1 Axes>"
      ]
     },
     "metadata": {
      "needs_background": "light"
     },
     "output_type": "display_data"
    }
   ],
   "source": [
    "#January\n",
    "jan = bakery[bakery['Date'].dt.month == 1]\n",
    "jan_top_5 = jan[\"Item\"].value_counts().sort_values(ascending=False).head(5)\n",
    "jan_top_5.plot.bar(y='Item', title='January Top 5 Items Sold')"
   ]
  },
  {
   "cell_type": "code",
   "execution_count": 17,
   "metadata": {},
   "outputs": [
    {
     "data": {
      "text/plain": [
       "<matplotlib.axes._subplots.AxesSubplot at 0x1f9dc792438>"
      ]
     },
     "execution_count": 17,
     "metadata": {},
     "output_type": "execute_result"
    },
    {
     "data": {
      "image/png": "[encoded data removed]",
      "text/plain": [
       "<Figure size 432x288 with 1 Axes>"
      ]
     },
     "metadata": {
      "needs_background": "light"
     },
     "output_type": "display_data"
    }
   ],
   "source": [
    "#February\n",
    "feb = bakery[bakery['Date'].dt.month == 2]\n",
    "feb_top_5 = feb[\"Item\"].value_counts().sort_values(ascending=False).head(5)\n",
    "feb_top_5.plot.bar(y='Item', title='February Top 5 Items Sold')"
   ]
  },
  {
   "cell_type": "code",
   "execution_count": 18,
   "metadata": {},
   "outputs": [
    {
     "data": {
      "text/plain": [
       "<matplotlib.axes._subplots.AxesSubplot at 0x1f9dc7dae80>"
      ]
     },
     "execution_count": 18,
     "metadata": {},
     "output_type": "execute_result"
    },
    {
     "data": {
      "image/png": "[encoded data removed]",
      "text/plain": [
       "<Figure size 432x288 with 1 Axes>"
      ]
     },
     "metadata": {
      "needs_background": "light"
     },
     "output_type": "display_data"
    }
   ],
   "source": [
    "#March\n",
    "mar = bakery[bakery['Date'].dt.month == 3]\n",
    "mar_top_5 = mar[\"Item\"].value_counts().sort_values(ascending=False).head(5)\n",
    "mar_top_5.plot.bar(y='Item', title='March Top 5 Items Sold')"
   ]
  },
  {
   "cell_type": "code",
   "execution_count": 19,
   "metadata": {},
   "outputs": [
    {
     "data": {
      "text/plain": [
       "<matplotlib.axes._subplots.AxesSubplot at 0x1f9dca1df60>"
      ]
     },
     "execution_count": 19,
     "metadata": {},
     "output_type": "execute_result"
    },
    {
     "data": {
      "image/png": "[encoded data removed]",
      "text/plain": [
       "<Figure size 432x288 with 1 Axes>"
      ]
     },
     "metadata": {
      "needs_background": "light"
     },
     "output_type": "display_data"
    }
   ],
   "source": [
    "#April\n",
    "apr = bakery[bakery['Date'].dt.month == 4]\n",
    "apr_top_5 = apr[\"Item\"].value_counts().sort_values(ascending=False).head(5)\n",
    "apr_top_5.plot.bar(y='Item', title='April Top 5 Items Sold')"
   ]
  },
  {
   "cell_type": "code",
   "execution_count": 20,
   "metadata": {},
   "outputs": [
    {
     "data": {
      "text/html": [
       "<div>\n",
       "<style scoped>\n",
       "    .dataframe tbody tr th:only-of-type {\n",
       "        vertical-align: middle;\n",
       "    }\n",
       "\n",
       "    .dataframe tbody tr th {\n",
       "        vertical-align: top;\n",
       "    }\n",
       "\n",
       "    .dataframe thead th {\n",
       "        text-align: right;\n",
       "    }\n",
       "</style>\n",
       "<table border=\"1\" class=\"dataframe\">\n",
       "  <thead>\n",
       "    <tr style=\"text-align: right;\">\n",
       "      <th></th>\n",
       "      <th>Date</th>\n",
       "      <th>Time</th>\n",
       "      <th>Transaction</th>\n",
       "      <th>Item</th>\n",
       "      <th>Weekday</th>\n",
       "      <th>Time Period</th>\n",
       "    </tr>\n",
       "  </thead>\n",
       "  <tbody>\n",
       "    <tr>\n",
       "      <th>0</th>\n",
       "      <td>2016-10-30</td>\n",
       "      <td>2020-04-18 09:58:11</td>\n",
       "      <td>1</td>\n",
       "      <td>Bread</td>\n",
       "      <td>Sunday</td>\n",
       "      <td>Morning</td>\n",
       "    </tr>\n",
       "    <tr>\n",
       "      <th>1</th>\n",
       "      <td>2016-10-30</td>\n",
       "      <td>2020-04-18 10:05:34</td>\n",
       "      <td>2</td>\n",
       "      <td>Scandinavian</td>\n",
       "      <td>Sunday</td>\n",
       "      <td>Morning</td>\n",
       "    </tr>\n",
       "    <tr>\n",
       "      <th>2</th>\n",
       "      <td>2016-10-30</td>\n",
       "      <td>2020-04-18 10:05:34</td>\n",
       "      <td>2</td>\n",
       "      <td>Scandinavian</td>\n",
       "      <td>Sunday</td>\n",
       "      <td>Morning</td>\n",
       "    </tr>\n",
       "    <tr>\n",
       "      <th>3</th>\n",
       "      <td>2016-10-30</td>\n",
       "      <td>2020-04-18 10:07:57</td>\n",
       "      <td>3</td>\n",
       "      <td>Hot chocolate</td>\n",
       "      <td>Sunday</td>\n",
       "      <td>Morning</td>\n",
       "    </tr>\n",
       "    <tr>\n",
       "      <th>4</th>\n",
       "      <td>2016-10-30</td>\n",
       "      <td>2020-04-18 10:07:57</td>\n",
       "      <td>3</td>\n",
       "      <td>Jam</td>\n",
       "      <td>Sunday</td>\n",
       "      <td>Morning</td>\n",
       "    </tr>\n",
       "  </tbody>\n",
       "</table>\n",
       "</div>"
      ],
      "text/plain": [
       "        Date                Time  Transaction           Item Weekday  \\\n",
       "0 2016-10-30 2020-04-18 09:58:11            1          Bread  Sunday   \n",
       "1 2016-10-30 2020-04-18 10:05:34            2   Scandinavian  Sunday   \n",
       "2 2016-10-30 2020-04-18 10:05:34            2   Scandinavian  Sunday   \n",
       "3 2016-10-30 2020-04-18 10:07:57            3  Hot chocolate  Sunday   \n",
       "4 2016-10-30 2020-04-18 10:07:57            3            Jam  Sunday   \n",
       "\n",
       "  Time Period  \n",
       "0     Morning  \n",
       "1     Morning  \n",
       "2     Morning  \n",
       "3     Morning  \n",
       "4     Morning  "
      ]
     },
     "execution_count": 20,
     "metadata": {},
     "output_type": "execute_result"
    }
   ],
   "source": [
    "#timestamp = [dt.strptime(i,  '%H:%M:%S').time() for i in bakery['Time']]\n",
    "hours = [x.hour for x in bakery['Time']]\n",
    "def time_period(hour):\n",
    "    if hour >= 1 and hour < 7:\n",
    "        return 'Early Morning'\n",
    "    elif hour >= 7 and hour < 11:\n",
    "        return 'Morning'\n",
    "    elif hour >= 11 and hour < 15:\n",
    "        return 'Noon'\n",
    "    elif hour >= 15 and hour < 20:\n",
    "        return 'Afternoon'\n",
    "    else:\n",
    "        return 'Evening'\n",
    "time = [time_period(y) for y in hours]\n",
    "bakery['Time Period'] = time\n",
    "\n",
    "bakery.head()\n",
    "\n"
   ]
  },
  {
   "cell_type": "code",
   "execution_count": 21,
   "metadata": {},
   "outputs": [
    {
     "name": "stdout",
     "output_type": "stream",
     "text": [
      "Total Number of Items sold:\n",
      "1\n"
     ]
    },
    {
     "data": {
      "image/png": "[encoded data removed]",
      "text/plain": [
       "<Figure size 432x288 with 1 Axes>"
      ]
     },
     "metadata": {
      "needs_background": "light"
     },
     "output_type": "display_data"
    }
   ],
   "source": [
    "#sales from 1 am to 6:59 am\n",
    "e_morning = bakery[bakery['Time Period'] == 'Early Morning']\n",
    "e_morning_top_5 = e_morning[\"Item\"].value_counts().sort_values(ascending=False).head(5)\n",
    "e_morning_top_5.plot.bar(y='Item', title='Early Morning Top 5 Items Sold')\n",
    "\n",
    "print(\"Total Number of Items sold:\")\n",
    "print(len(e_morning[\"Item\"]))\n",
    "\n",
    "#only one item is sold which is an outlier in the data. "
   ]
  },
  {
   "cell_type": "code",
   "execution_count": 22,
   "metadata": {},
   "outputs": [
    {
     "name": "stdout",
     "output_type": "stream",
     "text": [
      "Total Number of Items sold:\n",
      "5301\n"
     ]
    },
    {
     "data": {
      "image/png": "[encoded data removed]",
      "text/plain": [
       "<Figure size 432x288 with 1 Axes>"
      ]
     },
     "metadata": {
      "needs_background": "light"
     },
     "output_type": "display_data"
    }
   ],
   "source": [
    "#sales from 7 am to 10:59 am\n",
    "morning = bakery[bakery['Time Period'] == 'Morning']\n",
    "morning_top_5 = morning[\"Item\"].value_counts().sort_values(ascending=False).head(5)\n",
    "morning_top_5.plot.bar(y='Item', title='Morning Top 5 Items Sold')\n",
    "\n",
    "print(\"Total Number of Items sold:\")\n",
    "print(len(morning[\"Item\"]))"
   ]
  },
  {
   "cell_type": "code",
   "execution_count": 23,
   "metadata": {},
   "outputs": [
    {
     "name": "stdout",
     "output_type": "stream",
     "text": [
      "Total Number of Items sold:\n",
      "11213\n"
     ]
    },
    {
     "data": {
      "image/png": "[encoded data removed]",
      "text/plain": [
       "<Figure size 432x288 with 1 Axes>"
      ]
     },
     "metadata": {
      "needs_background": "light"
     },
     "output_type": "display_data"
    }
   ],
   "source": [
    "#sales from 11 am to 2:59 pm\n",
    "noon = bakery[bakery['Time Period'] == 'Noon']\n",
    "noon_top_5 = noon[\"Item\"].value_counts().sort_values(ascending=False).head(5)\n",
    "noon_top_5.plot.bar(y='Item', title='Noon Top 5 Items Sold')\n",
    "\n",
    "print(\"Total Number of Items sold:\")\n",
    "print(len(noon[\"Item\"]))"
   ]
  },
  {
   "cell_type": "code",
   "execution_count": 24,
   "metadata": {},
   "outputs": [
    {
     "name": "stdout",
     "output_type": "stream",
     "text": [
      "Total Number of Items sold:\n",
      "3956\n"
     ]
    },
    {
     "data": {
      "image/png": "[encoded data removed]",
      "text/plain": [
       "<Figure size 432x288 with 1 Axes>"
      ]
     },
     "metadata": {
      "needs_background": "light"
     },
     "output_type": "display_data"
    }
   ],
   "source": [
    "#sales from 3 pm to 7:59 pm\n",
    "afternoon = bakery[bakery['Time Period'] == 'Afternoon']\n",
    "afternoon_top_5 = afternoon[\"Item\"].value_counts().sort_values(ascending=False).head(5)\n",
    "afternoon_top_5.plot.bar(y='Item', title='Afternoon Top 5 Items Sold')\n",
    "\n",
    "print(\"Total Number of Items sold:\")\n",
    "print(len(afternoon[\"Item\"]))"
   ]
  },
  {
   "cell_type": "code",
   "execution_count": 25,
   "metadata": {},
   "outputs": [
    {
     "name": "stdout",
     "output_type": "stream",
     "text": [
      "Total Number of Items sold:\n",
      "36\n"
     ]
    },
    {
     "data": {
      "image/png": "[encoded data removed]",
      "text/plain": [
       "<Figure size 432x288 with 1 Axes>"
      ]
     },
     "metadata": {
      "needs_background": "light"
     },
     "output_type": "display_data"
    }
   ],
   "source": [
    "#sales from 8 pm to 12:59 am\n",
    "evening = bakery[bakery['Time Period'] == 'Evening']\n",
    "evening_top_5 = evening[\"Item\"].value_counts().sort_values(ascending=False).head(5)\n",
    "evening_top_5.plot.bar(y='Item', title='Evening Top 5 Items Sold')\n",
    "print(\"Total Number of Items sold:\")\n",
    "print(len(evening[\"Item\"]))"
   ]
  },
  {
   "cell_type": "code",
   "execution_count": 26,
   "metadata": {},
   "outputs": [
    {
     "name": "stdout",
     "output_type": "stream",
     "text": [
      "['Basket' \"Ella's Kitchen Pouches\" 'Victorian Sponge' 'Pick and Mix Bowls'\n",
      " 'Mighty Protein' 'Chicken sand' 'My-5 Fruit Shoot' 'Dulce de Leche'\n",
      " 'Honey' 'The BART' 'Fairy Doors' 'Empanadas' 'Bowl Nic Pitt'\n",
      " 'Bread Pudding' 'Adjustment' 'Chimichurri Oil' 'Bacon' 'Spread'\n",
      " 'Kids biscuit' 'Siblings' 'Caramel bites' 'Olum & polenta' 'Polenta'\n",
      " 'Hack the stack' 'Lemon and coconut' 'Crepes' 'Bare Popcorn' 'Muesli'\n",
      " 'Crisps' 'Pintxos' 'Gingerbread syrup' 'Panatone' 'Brioche and salami'\n",
      " 'Raspberry shortbread sandwich' 'Duck egg' \"Valentine's card\"\n",
      " 'Vegan Feast' 'Postcard' 'Nomad bag' 'Chocolates' 'Coffee granules '\n",
      " 'Drinking chocolate spoons ' 'Christmas common' 'Argentina Night'\n",
      " 'Half slice Monster ' 'Gift voucher' 'Cherry me Dried fruit' 'Mortimer'\n",
      " 'Raw bars' 'Tacos/Fajita']\n",
      "My-5 Fruit Shoot                 18\n",
      "Ella's Kitchen Pouches           17\n",
      "Vegan Feast                      16\n",
      "Crisps                           14\n",
      "Dulce de Leche                   13\n",
      "Valentine's card                 13\n",
      "Kids biscuit                     12\n",
      "Duck egg                         12\n",
      "Pick and Mix Bowls               12\n",
      "Tacos/Fajita                     11\n",
      "Christmas common                 11\n",
      "Mighty Protein                   11\n",
      "Postcard                         10\n",
      "Chocolates                       10\n",
      "Gingerbread syrup                 9\n",
      "Drinking chocolate spoons         8\n",
      "Muesli                            8\n",
      "Nomad bag                         8\n",
      "Empanadas                         7\n",
      "Victorian Sponge                  7\n",
      "Argentina Night                   7\n",
      "Coffee granules                   7\n",
      "Basket                            6\n",
      "Honey                             6\n",
      "Crepes                            6\n",
      "Lemon and coconut                 6\n",
      "Pintxos                           6\n",
      "Half slice Monster                6\n",
      "Bare Popcorn                      5\n",
      "Panatone                          5\n",
      "Mortimer                          5\n",
      "Bread Pudding                     4\n",
      "Cherry me Dried fruit             3\n",
      "Raspberry shortbread sandwich     3\n",
      "Brioche and salami                3\n",
      "Caramel bites                     3\n",
      "Hack the stack                    2\n",
      "Siblings                          2\n",
      "Bowl Nic Pitt                     2\n",
      "Fairy Doors                       2\n",
      "Spread                            2\n",
      "Chimichurri Oil                   2\n",
      "Raw bars                          1\n",
      "Adjustment                        1\n",
      "Olum & polenta                    1\n",
      "Polenta                           1\n",
      "Gift voucher                      1\n",
      "The BART                          1\n",
      "Bacon                             1\n",
      "Chicken sand                      1\n",
      "Name: Item, dtype: int64\n"
     ]
    }
   ],
   "source": [
    "bakery_temp = bakery[bakery.groupby('Item')['Item'].transform('size') < 21]\n",
    "print(bakery_temp.Item.unique())\n",
    "print(bakery_temp.Item.value_counts())"
   ]
  }
 ],
 "metadata": {
  "kernelspec": {
   "display_name": "Python 3",
   "language": "python",
   "name": "python3"
  },
  "language_info": {
   "codemirror_mode": {
    "name": "ipython",
    "version": 3
   },
   "file_extension": ".py",
   "mimetype": "text/x-python",
   "name": "python",
   "nbconvert_exporter": "python",
   "pygments_lexer": "ipython3",
   "version": "3.7.3"
  }
 },
 "nbformat": 4,
 "nbformat_minor": 1
}
